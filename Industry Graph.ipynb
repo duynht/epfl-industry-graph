{
 "cells": [
  {
   "cell_type": "code",
   "execution_count": 1,
   "metadata": {},
   "outputs": [],
   "source": [
    "import pdb\n",
    "import warnings"
   ]
  },
  {
   "cell_type": "code",
   "execution_count": 4,
   "metadata": {},
   "outputs": [],
   "source": []
  },
  {
   "cell_type": "code",
   "execution_count": null,
   "metadata": {},
   "outputs": [
    {
     "name": "stdout",
     "output_type": "stream",
     "text": [
      "patent\\\n",
      "patent\\20190312T000000\n",
      "patent\\20190312T000000\\part-r-00000-a6aa497a-5142-462d-ae29-92e711215d59\n"
     ]
    }
   ],
   "source": [
    "# %load keyphrases_extraction.py\n",
    "import pke\n",
    "import ast\n",
    "from nltk.corpus import stopwords\n",
    "from glob import glob\n",
    "import os\n",
    "import json\n",
    "\n",
    "import logging; logging.getLogger().setLevel('ERROR')\n",
    "\n",
    "stoplist = stopwords.words('english')\n",
    "window = 3\n",
    "threshold = 0.8\n",
    "use_stems = False\n",
    "pos = {'NOUN'}\n",
    "\n",
    "all_keyphrases = set()\n",
    "for filepath in glob('patent/**', recursive=True):\n",
    "    print(filepath)\n",
    "    if os.path.isdir(filepath): continue\n",
    "    with open(filepath,encoding='utf8') as f:\n",
    "        data_list = []\n",
    "        for line_num, line in enumerate(f):       \n",
    "            if not line:\n",
    "                break\n",
    "                \n",
    "            keyphrases_set = set()\n",
    "            data = ast.literal_eval(line)\n",
    "            \n",
    "            entry = {}\n",
    "            entry['company_name'] = data['cleaned_name']\n",
    "            entry['country'] = data['application_country']\n",
    "    \n",
    "            if not (data['title'] == 'NULL'):\n",
    "                extractor = pke.unsupervised.MultipartiteRank()\n",
    "                extractor.load_document(input=data['title'], language='en')\n",
    "                extractor.candidate_selection(pos=pos, stoplist=stoplist)\n",
    "                if(len(extractor.candidates) > 1):\n",
    "                    extractor.candidate_weighting()\n",
    "                keyphrases = extractor.get_n_best(n=10)\n",
    "                \n",
    "                for phrase,_ in keyphrases:\n",
    "                    keyphrases_set.add(phrase)        \n",
    "    \n",
    "            if not (data['abstract'] == 'NULL'):\n",
    "                # extractor = pke.unsupervised.YAKE()\n",
    "                # extractor.load_document(input=data['abstract'], language='en')\n",
    "                # extractor.candidate_selection(n=2, stoplist=stoplist)\n",
    "                # extractor.candidate_weighting(window=window, use_stems=use_stems)\n",
    "                # keyphrases = extractor.get_n_best(n=5, threshold=threshold)\n",
    "\n",
    "                extractor = pke.unsupervised.MultipartiteRank()\n",
    "                extractor.load_document(input=data['abstract'], language='en')\n",
    "                extractor.candidate_selection(pos=pos, stoplist=stoplist)\n",
    "                if (len(extractor.candidates) > 1):\n",
    "                    extractor.candidate_weighting()\n",
    "                keyphrases = extractor.get_n_best(n=10)\n",
    "\n",
    "                for phrase,_ in keyphrases:\n",
    "                    keyphrases_set.add(phrase)\n",
    "                    all_keyphrases.add(phrase)\n",
    "        \n",
    "            entry['fields'] = keyphrases_set\n",
    "            \n",
    "        data_list.append(entry)\n",
    "    with open(filepath+'-extracted', 'w', encoding='utf-8') as f:\n",
    "        json.dump(data_list, f)\n",
    "\n",
    "with open('keyphrases.txt', 'w', encoding='utf-8') as f:\n",
    "    f.write(str(all_keyphrases))"
   ]
  },
  {
   "cell_type": "code",
   "execution_count": 20,
   "metadata": {
    "collapsed": true,
    "jupyter": {
     "outputs_hidden": true
    }
   },
   "outputs": [
    {
     "name": "stdout",
     "output_type": "stream",
     "text": [
      "> \u001b[1;32mc:\\programdata\\miniconda3\\lib\\site-packages\\scipy\\spatial\\distance.py\u001b[0m(2403)\u001b[0;36mnum_obs_y\u001b[1;34m()\u001b[0m\n",
      "\u001b[1;32m   2401 \u001b[1;33m    \u001b[0mk\u001b[0m \u001b[1;33m=\u001b[0m \u001b[0mY\u001b[0m\u001b[1;33m.\u001b[0m\u001b[0mshape\u001b[0m\u001b[1;33m[\u001b[0m\u001b[1;36m0\u001b[0m\u001b[1;33m]\u001b[0m\u001b[1;33m\u001b[0m\u001b[1;33m\u001b[0m\u001b[0m\n",
      "\u001b[0m\u001b[1;32m   2402 \u001b[1;33m    \u001b[1;32mif\u001b[0m \u001b[0mk\u001b[0m \u001b[1;33m==\u001b[0m \u001b[1;36m0\u001b[0m\u001b[1;33m:\u001b[0m\u001b[1;33m\u001b[0m\u001b[1;33m\u001b[0m\u001b[0m\n",
      "\u001b[0m\u001b[1;32m-> 2403 \u001b[1;33m        raise ValueError(\"The number of observations cannot be determined on \"\n",
      "\u001b[0m\u001b[1;32m   2404 \u001b[1;33m                         \"an empty distance matrix.\")\n",
      "\u001b[0m\u001b[1;32m   2405 \u001b[1;33m    \u001b[0md\u001b[0m \u001b[1;33m=\u001b[0m \u001b[0mint\u001b[0m\u001b[1;33m(\u001b[0m\u001b[0mnp\u001b[0m\u001b[1;33m.\u001b[0m\u001b[0mceil\u001b[0m\u001b[1;33m(\u001b[0m\u001b[0mnp\u001b[0m\u001b[1;33m.\u001b[0m\u001b[0msqrt\u001b[0m\u001b[1;33m(\u001b[0m\u001b[0mk\u001b[0m \u001b[1;33m*\u001b[0m \u001b[1;36m2\u001b[0m\u001b[1;33m)\u001b[0m\u001b[1;33m)\u001b[0m\u001b[1;33m)\u001b[0m\u001b[1;33m\u001b[0m\u001b[1;33m\u001b[0m\u001b[0m\n",
      "\u001b[0m\n"
     ]
    },
    {
     "name": "stdin",
     "output_type": "stream",
     "text": [
      "ipdb>  up\n"
     ]
    },
    {
     "name": "stdout",
     "output_type": "stream",
     "text": [
      "> \u001b[1;32mc:\\programdata\\miniconda3\\lib\\site-packages\\scipy\\cluster\\hierarchy.py\u001b[0m(1064)\u001b[0;36mlinkage\u001b[1;34m()\u001b[0m\n",
      "\u001b[1;32m   1062 \u001b[1;33m                         \"finite values.\")\n",
      "\u001b[0m\u001b[1;32m   1063 \u001b[1;33m\u001b[1;33m\u001b[0m\u001b[0m\n",
      "\u001b[0m\u001b[1;32m-> 1064 \u001b[1;33m    \u001b[0mn\u001b[0m \u001b[1;33m=\u001b[0m \u001b[0mint\u001b[0m\u001b[1;33m(\u001b[0m\u001b[0mdistance\u001b[0m\u001b[1;33m.\u001b[0m\u001b[0mnum_obs_y\u001b[0m\u001b[1;33m(\u001b[0m\u001b[0my\u001b[0m\u001b[1;33m)\u001b[0m\u001b[1;33m)\u001b[0m\u001b[1;33m\u001b[0m\u001b[1;33m\u001b[0m\u001b[0m\n",
      "\u001b[0m\u001b[1;32m   1065 \u001b[1;33m    \u001b[0mmethod_code\u001b[0m \u001b[1;33m=\u001b[0m \u001b[0m_LINKAGE_METHODS\u001b[0m\u001b[1;33m[\u001b[0m\u001b[0mmethod\u001b[0m\u001b[1;33m]\u001b[0m\u001b[1;33m\u001b[0m\u001b[1;33m\u001b[0m\u001b[0m\n",
      "\u001b[0m\u001b[1;32m   1066 \u001b[1;33m\u001b[1;33m\u001b[0m\u001b[0m\n",
      "\u001b[0m\n"
     ]
    },
    {
     "name": "stdin",
     "output_type": "stream",
     "text": [
      "ipdb>  up\n"
     ]
    },
    {
     "name": "stdout",
     "output_type": "stream",
     "text": [
      "> \u001b[1;32mc:\\programdata\\miniconda3\\lib\\site-packages\\pke\\unsupervised\\graph_based\\multipartiterank.py\u001b[0m(104)\u001b[0;36mtopic_clustering\u001b[1;34m()\u001b[0m\n",
      "\u001b[1;32m    102 \u001b[1;33m\u001b[1;33m\u001b[0m\u001b[0m\n",
      "\u001b[0m\u001b[1;32m    103 \u001b[1;33m        \u001b[1;31m# compute the clusters\u001b[0m\u001b[1;33m\u001b[0m\u001b[1;33m\u001b[0m\u001b[1;33m\u001b[0m\u001b[0m\n",
      "\u001b[0m\u001b[1;32m--> 104 \u001b[1;33m        \u001b[0mZ\u001b[0m \u001b[1;33m=\u001b[0m \u001b[0mlinkage\u001b[0m\u001b[1;33m(\u001b[0m\u001b[0mY\u001b[0m\u001b[1;33m,\u001b[0m \u001b[0mmethod\u001b[0m\u001b[1;33m=\u001b[0m\u001b[0mmethod\u001b[0m\u001b[1;33m)\u001b[0m\u001b[1;33m\u001b[0m\u001b[1;33m\u001b[0m\u001b[0m\n",
      "\u001b[0m\u001b[1;32m    105 \u001b[1;33m\u001b[1;33m\u001b[0m\u001b[0m\n",
      "\u001b[0m\u001b[1;32m    106 \u001b[1;33m        \u001b[1;31m# form flat clusters\u001b[0m\u001b[1;33m\u001b[0m\u001b[1;33m\u001b[0m\u001b[1;33m\u001b[0m\u001b[0m\n",
      "\u001b[0m\n"
     ]
    },
    {
     "name": "stdin",
     "output_type": "stream",
     "text": [
      "ipdb>  up\n"
     ]
    },
    {
     "name": "stdout",
     "output_type": "stream",
     "text": [
      "> \u001b[1;32mc:\\programdata\\miniconda3\\lib\\site-packages\\pke\\unsupervised\\graph_based\\multipartiterank.py\u001b[0m(215)\u001b[0;36mcandidate_weighting\u001b[1;34m()\u001b[0m\n",
      "\u001b[1;32m    213 \u001b[1;33m\u001b[1;33m\u001b[0m\u001b[0m\n",
      "\u001b[0m\u001b[1;32m    214 \u001b[1;33m        \u001b[1;31m# cluster the candidates\u001b[0m\u001b[1;33m\u001b[0m\u001b[1;33m\u001b[0m\u001b[1;33m\u001b[0m\u001b[0m\n",
      "\u001b[0m\u001b[1;32m--> 215 \u001b[1;33m        \u001b[0mself\u001b[0m\u001b[1;33m.\u001b[0m\u001b[0mtopic_clustering\u001b[0m\u001b[1;33m(\u001b[0m\u001b[0mthreshold\u001b[0m\u001b[1;33m=\u001b[0m\u001b[0mthreshold\u001b[0m\u001b[1;33m,\u001b[0m \u001b[0mmethod\u001b[0m\u001b[1;33m=\u001b[0m\u001b[0mmethod\u001b[0m\u001b[1;33m)\u001b[0m\u001b[1;33m\u001b[0m\u001b[1;33m\u001b[0m\u001b[0m\n",
      "\u001b[0m\u001b[1;32m    216 \u001b[1;33m\u001b[1;33m\u001b[0m\u001b[0m\n",
      "\u001b[0m\u001b[1;32m    217 \u001b[1;33m        \u001b[1;31m# build the topic graph\u001b[0m\u001b[1;33m\u001b[0m\u001b[1;33m\u001b[0m\u001b[1;33m\u001b[0m\u001b[0m\n",
      "\u001b[0m\n"
     ]
    },
    {
     "name": "stdin",
     "output_type": "stream",
     "text": [
      "ipdb>  up\n"
     ]
    },
    {
     "name": "stdout",
     "output_type": "stream",
     "text": [
      "> \u001b[1;32m<ipython-input-19-ce78ec816f20>\u001b[0m(37)\u001b[0;36m<module>\u001b[1;34m()\u001b[0m\n",
      "\u001b[1;32m     35 \u001b[1;33m                \u001b[0mextractor\u001b[0m\u001b[1;33m.\u001b[0m\u001b[0mcandidate_selection\u001b[0m\u001b[1;33m(\u001b[0m\u001b[0mpos\u001b[0m\u001b[1;33m=\u001b[0m\u001b[0mpos\u001b[0m\u001b[1;33m,\u001b[0m \u001b[0mstoplist\u001b[0m\u001b[1;33m=\u001b[0m\u001b[0mstoplist\u001b[0m\u001b[1;33m)\u001b[0m\u001b[1;33m\u001b[0m\u001b[1;33m\u001b[0m\u001b[0m\n",
      "\u001b[0m\u001b[1;32m     36 \u001b[1;33m                \u001b[1;32mif\u001b[0m\u001b[1;33m(\u001b[0m\u001b[0mlen\u001b[0m\u001b[1;33m(\u001b[0m\u001b[0mdata\u001b[0m\u001b[1;33m[\u001b[0m\u001b[1;34m'title'\u001b[0m\u001b[1;33m]\u001b[0m\u001b[1;33m)\u001b[0m \u001b[1;33m>\u001b[0m \u001b[1;36m1\u001b[0m\u001b[1;33m)\u001b[0m\u001b[1;33m:\u001b[0m\u001b[1;33m\u001b[0m\u001b[1;33m\u001b[0m\u001b[0m\n",
      "\u001b[0m\u001b[1;32m---> 37 \u001b[1;33m                    \u001b[0mextractor\u001b[0m\u001b[1;33m.\u001b[0m\u001b[0mcandidate_weighting\u001b[0m\u001b[1;33m(\u001b[0m\u001b[1;33m)\u001b[0m\u001b[1;33m\u001b[0m\u001b[1;33m\u001b[0m\u001b[0m\n",
      "\u001b[0m\u001b[1;32m     38 \u001b[1;33m                \u001b[0mkeyphrases\u001b[0m \u001b[1;33m=\u001b[0m \u001b[0mextractor\u001b[0m\u001b[1;33m.\u001b[0m\u001b[0mget_n_best\u001b[0m\u001b[1;33m(\u001b[0m\u001b[0mn\u001b[0m\u001b[1;33m=\u001b[0m\u001b[1;36m10\u001b[0m\u001b[1;33m)\u001b[0m\u001b[1;33m\u001b[0m\u001b[1;33m\u001b[0m\u001b[0m\n",
      "\u001b[0m\u001b[1;32m     39 \u001b[1;33m\u001b[1;33m\u001b[0m\u001b[0m\n",
      "\u001b[0m\n"
     ]
    },
    {
     "name": "stdin",
     "output_type": "stream",
     "text": [
      "ipdb>  print(data['title\n"
     ]
    },
    {
     "name": "stdout",
     "output_type": "stream",
     "text": [
      "*** SyntaxError: EOL while scanning string literal\n"
     ]
    },
    {
     "name": "stdin",
     "output_type": "stream",
     "text": [
      "ipdb>  print(data['title'])\n"
     ]
    },
    {
     "name": "stdout",
     "output_type": "stream",
     "text": [
      "Burner\n"
     ]
    },
    {
     "name": "stdin",
     "output_type": "stream",
     "text": [
      "ipdb>  print(len(data['title']))\n"
     ]
    },
    {
     "name": "stdout",
     "output_type": "stream",
     "text": [
      "6\n"
     ]
    },
    {
     "name": "stdin",
     "output_type": "stream",
     "text": [
      "ipdb>  quit()\n"
     ]
    }
   ],
   "source": [
    "%debug"
   ]
  }
 ],
 "metadata": {
  "kernelspec": {
   "display_name": "Python 3",
   "language": "python",
   "name": "python3"
  },
  "language_info": {
   "codemirror_mode": {
    "name": "ipython",
    "version": 3
   },
   "file_extension": ".py",
   "mimetype": "text/x-python",
   "name": "python",
   "nbconvert_exporter": "python",
   "pygments_lexer": "ipython3",
   "version": "3.7.5"
  }
 },
 "nbformat": 4,
 "nbformat_minor": 4
}
